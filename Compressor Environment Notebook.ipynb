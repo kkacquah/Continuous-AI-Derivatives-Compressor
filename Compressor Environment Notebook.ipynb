{
 "cells": [
  {
   "cell_type": "markdown",
   "metadata": {},
   "source": [
    "# Building a credit derivatives compressor Open AI Gym environment\n",
    "\n",
    "For my UROP project for the spring 2018 semester, I have created an Open AI Gym environment in an attempt to open the door for open source the problem of using reinforcement learning to build an automatic agent that finds the optimal methodology for compressing a set of derivatives contracts between groups of banks. Given the recent resurgence of financial regulation incentivizing actors within the financial sector to minimize their excess derivative contract notional, devising an artificial intellegence system to automatically minimize this excess over time is certainly a worthwhile endevour."
   ]
  },
  {
   "cell_type": "markdown",
   "metadata": {},
   "source": [
    "## Problem Statement\n",
    "\n",
    "Perhaps I should define the problem I intend to solve, before providing information about the artificial intelligence mechanisms I used to achieve a solution. In this notebook, I attempt to build an OpenAI Gym (a standard format for testing and evaluatiing reinforcement agents' attempts at various problems) that can be used to test a reinforcement learning agent which aims to solve the following problem:\n",
    "\n",
    "First we must define the following notation, a derivatives market can be modelled as consistenting the following elements:\n",
    "\n",
    "1. A set of banks $B$ comprised of banks $(b_0,b_1,\\dots b_n)$\n",
    "1. A set of timesteps $T = (0,1,2,3,4,5,\\dots,n)$, each timestep $t$ represents a week during which derivatives trading occurs.\n",
    "1. A set of edges that comprise a directed graph G, $E = (e_0,e_1, \\dots e_n)$ each edge $e_k =(b_i,b_j)$ of weight $w$ represents an debt owed of $w$ million dollars from bank $b_i$ to bank $b_j$.\n",
    "1. An \"arrival\" of an edge is defined as one of two events:\n",
    "    1. The origination of an edge $e_k =(b_i,b_j)$ that did not exist in prior timesteps.\n",
    "    1. The increase of the weight $w$ of an edge $e_k$ that had existed in prior timesteps.\n",
    "1. The total notional of a derivatives contract graph $G$ is equivalent to:\n",
    "$$\\sum_{\\forall i,j \\in |B|} w(b_i,b_j)$$\n",
    "\n",
    "Where $w(b_i,b_j)$ is a function that returns the weight $w$ of the edge defined as a derivative contract relationship between bank $i$ and bank $j$.\n",
    "\n",
    "Minimizing total notional at a given timestep $t$ is a solved problem, a paper that discusses the impact of solving this problem (derivatives portfolio compression) can be found [here](https://poseidon01.ssrn.com/delivery.php?ID=173022101119066104069084024124124064057072038035075028088075127101004122006005024111124122127028018042026073119104019029013097060013004075058101117086083074115000080085079001122091083005103114006027025067087001080089110082065023117022074089030116069073&EXT=pdf).\n",
    "\n",
    "The precise problem that a intend to allow a reinforcement agent to learn how to solve is this:\n",
    "\n",
    "If edges (derivative contracts) that arrive between banks due to a pattern determined by banks within a given financial system, can an agent to learn minimize notional excess over all periods? In math, this can be formalized as solving for:\n",
    "\n",
    "$$\\min_{t \\in T} \\sum_{\\forall i,j \\in |B|} w_t(b_i,b_j)$$\n",
    "\n",
    "Where $w_t(b_i,b_j)$ is a function that returns the weight $w_t$ of the edge defined as a derivative contract relationship between bank $i$ and bank $j$ at timestep $t$."
   ]
  },
  {
   "cell_type": "markdown",
   "metadata": {},
   "source": [
    "## Reinforcement Learning Problem\n",
    "\n",
    "The corresponding reinforcement learning problem is very similar to that problem statement above, but with a few simplifications. They are outlined below:\n",
    "\n",
    "1. We will only be attempting to solve for the minimum amongst the top 5 most connected nodes, based on initial analysis, one can see that there are very few very connected nodes, so this is a fair simplification for the more general problem. A histogram is shown below:\n",
    "\n",
    "1. For the early stages of this project, we will only aim to keep total notional below a certain percentage of what I define as counterfactual total notional, which is the total notional that would be observed given no action on a derivatives contract graph $G$, as of right now, this percentage of notional is set at 75%\n",
    "\n",
    "1. To address computational hurdles, all contract originations are normalized by the largest edge that originates during the analyzed time period."
   ]
  },
  {
   "cell_type": "code",
   "execution_count": 13,
   "metadata": {},
   "outputs": [],
   "source": [
    " #!/usr/bin/env python\n",
    "# -*- coding: utf-8 -*-\n",
    "\n",
    "\"\"\"\n",
    "Reads total credit data\n",
    "\"\"\"\n",
    "\n",
    "# core modules\n",
    "from os import walk\n",
    "import pandas as pd\n",
    "import numpy as np\n",
    "import datetime as dt\n",
    "import calendar\n",
    "import networkx as nx\n",
    "from operator import itemgetter\n",
    "import random\n",
    "import matplotlib.pyplot as plt\n",
    "\n",
    "def load_data_to_adj_matrices(path,enddate):\n",
    "    #Loads data from path into dictionary of weeks which map to adjacency matrices representing contracts that originated that week\n",
    "    #Returns week_adj_matrices\n",
    "    derivatives_df = pd.read_csv(path)\n",
    "    derivatives_df = derivatives_df[derivatives_df.Duration != \"ON\"]\n",
    "    derivatives_df = derivatives_df[derivatives_df.Market != \"Market\"]\n",
    "    day_dataframes = dict()\n",
    "    for _,row in derivatives_df.iterrows():\n",
    "        if row.Date in day_dataframes.keys():\n",
    "            day_dataframes[row.Date] = pd.concat([day_dataframes[row.Date],row],axis = 1)\n",
    "        else:\n",
    "            day_dataframes[row.Date] = pd.DataFrame(row)\n",
    "        if row.Date == enddate:\n",
    "            break\n",
    "    BanksList = np.sort(pd.concat([derivatives_df[\"Aggressor\"],derivatives_df[\"Quoter\"]]).unique())\n",
    "    numbanks = len(BanksList)\n",
    "    day_adj_matrices = dict()\n",
    "    week_edges = dict()\n",
    "    week_adj_matrices = dict() \n",
    "    #Initialize array of zeroes for every date\n",
    "    for date in day_dataframes.keys():\n",
    "        day_adj_matrices[date] = np.zeros((numbanks,numbanks))\n",
    "    for endweek in list(day_dataframes.keys())[0:-1:5]:\n",
    "        week_adj_matrices[endweek] = np.zeros((numbanks,numbanks))\n",
    "        week_edges[endweek] = []\n",
    "    for d_i,date in enumerate(day_dataframes.keys()):\n",
    "        if d_i // 5 >= len(list(week_adj_matrices.keys())):\n",
    "            break\n",
    "        endweek = list(week_adj_matrices.keys())[d_i // 5]\n",
    "        \n",
    "        endweekobj = dt.datetime.strptime(endweek, \"%Y-%m-%d\")\n",
    "        for i in day_dataframes[date]:\n",
    "            row = day_dataframes[date][i]\n",
    "            #If the agressor is the lender\n",
    "            a_idx = np.where(BanksList == row.Aggressor)[0][0]\n",
    "            q_idx = np.where(BanksList == row.Quoter)[0][0]\n",
    "            #Check to see if originating contract will not be removed soon\n",
    "            dateobj = dt.datetime.strptime(date, \"%Y-%m-%d\")\n",
    "            \n",
    "            if (row.Duration == 'TN' or row.Duration == 'TNL') and dateobj + dt.timedelta(days = 2) <= endweekobj:\n",
    "                continue\n",
    "            if (row.Duration == 'SN' or row.Duration == 'SNL') and dateobj + dt.timedelta(days = 3) <= endweekobj:\n",
    "                continue\n",
    "            #If the agressor is the lender\n",
    "            if row.Verb == \"Sell\":\n",
    "                #create incidence matrix as well\n",
    "                week_adj_matrices[endweek][q_idx,a_idx] = np.add(float(day_adj_matrices[date][q_idx,a_idx]),int(float(row.Amount)))\n",
    "            #If the agressor is the borrower\n",
    "            if row.Verb == \"Buy\":\n",
    "                week_adj_matrices[endweek][a_idx,q_idx] = np.add(float(day_adj_matrices[date][a_idx,q_idx]),int(float(row.Amount)))\n",
    "    return week_adj_matrices,numbanks\n",
    "\n",
    "def find_most_connected(week_adj_matrices,n_banks):\n",
    "    total_adj_matrix = week_adj_matrices[list(week_adj_matrices.keys())[0]]\n",
    "    for week in list(week_adj_matrices.keys()):\n",
    "        total_adj_matrix += week_adj_matrices[week]\n",
    "\n",
    "    total_contracts = nx.DiGraph()\n",
    "    for i in range(n_banks):\n",
    "        for j in range(n_banks):\n",
    "            if total_adj_matrix[i,j] != 0:\n",
    "                total_contracts.add_edge(i,j,weight=total_adj_matrix[i,j])\n",
    "    deg_centrality_dict = nx.degree_centrality(total_contracts)\n",
    "    return list(deg_centrality_dict.values())\n",
    "\n"
   ]
  },
  {
   "cell_type": "code",
   "execution_count": 14,
   "metadata": {},
   "outputs": [
    {
     "name": "stderr",
     "output_type": "stream",
     "text": [
      "c:\\python36\\lib\\site-packages\\IPython\\core\\interactiveshell.py:2850: DtypeWarning: Columns (4,5,6,7) have mixed types. Specify dtype option on import or set low_memory=False.\n",
      "  if self.run_code(code, result):\n"
     ]
    },
    {
     "data": {
      "image/png": "[encoded data removed]",
      "text/plain": [
       "<matplotlib.figure.Figure at 0x2958ee5df60>"
      ]
     },
     "metadata": {},
     "output_type": "display_data"
    }
   ],
   "source": [
    "week_adj_matrices_all,n = load_data_to_adj_matrices('C:\\Python36\\Lib\\site-packages\\gym\\envs\\gym_compressor\\complete_credit_data.csv','2000-01-05')\n",
    "plt.hist(find_most_connected(week_adj_matrices_all,n))\n",
    "plt.xlabel('Nodes')\n",
    "plt.ylabel('Degree Connectivity')\n",
    "plt.title('Histogram of Node Centrality of the First Year of Credit Data')\n",
    "plt.show()"
   ]
  },
  {
   "cell_type": "markdown",
   "metadata": {},
   "source": [
    "## Reward Structure\n",
    "\n",
    "The reward structure of this problem is quite simple, our agent will recieve a reward of $-1$ for every time step it spends with total notional above the given threshold and positive 1 otherwise. Below is the \"\\_get\\_reward\" fucntion in our OpenAi Gym environment."
   ]
  },
  {
   "cell_type": "code",
   "execution_count": 15,
   "metadata": {},
   "outputs": [],
   "source": [
    "def _get_reward(self):\n",
    "        \"\"\"Reward is given for each timestep below the is_compressed threshold.\"\"\"\n",
    "        if self.is_compressed:\n",
    "            return 1\n",
    "        else:\n",
    "            return -1"
   ]
  },
  {
   "cell_type": "markdown",
   "metadata": {},
   "source": [
    "## Action Structure\n",
    "\n",
    "As previously mentioned, minimizing the total notional amongst a set of banks $B$ and their respective edges $E$ while maintaining the amount owed from each bank to every other is a solved problem. It can be solved using the following linear programming problem:\n",
    "\n",
    "\\begin{equation} \\label{eq1}\n",
    "\\begin{split}\n",
    "\\text{minimize } & \\hat{u} \\cdot e' \\\\\n",
    "\\text{subject to } & Qe' = v \\\\\n",
    "& 0 \\leq e' \\leq e\n",
    "\\end{split}\n",
    "\\end{equation}\n",
    "\n",
    "Where $\\hat{u}$ is a vector of all 1's $e'$ is the set of edges that would minimize total notional $Q$ is an incidence matrix of our derivatives contract graph $G$ and $v$ is a vector representation of the total degree of each bank (which represents underlying value on each banks balance sheet)."
   ]
  },
  {
   "cell_type": "markdown",
   "metadata": {},
   "source": [
    "## Observation Structure\n",
    "\n",
    "### State Observations\n",
    "\n",
    "The observation structure is a bit more complicated, the agent observes the state it exists in which is the culmination of action its taken, and contracts that have arrived during during the current episode. After it make a specific action, the agent sees an adjacency matrix repesenting derivatives contracts that have originated up to timestep $t$ between the top $n$ banks with the highest node centrality. As an adjacency matrix is a very noisy way to view and try to discern patterns within a derivatives contract graph, I have looked quite seriously into using the first $k$ singular values of the adjacency matrix to derive a rank $k$ representation of the adjacency matrix.\n",
    "\n",
    "### Action Observations\n",
    "\n",
    "In addition, the agent observes the critical cycles of the adjacency matrix representing the culmination of derivatives contracts up to timestep $t$, these critical cycles are calculated by utilizing a conservative compression linear programming algorithm to find the graph that minimizes the notional excess of our derivatives contract graph. I then subtract this graph from the \"current adjacency matrix\" as described in \"State Observations\". The cycles of this graph consist entirely of \"critical cycles\" or cycles that be removed in order to miniminze excess notional in the derivatives contract graph. Given $n$ critical cycles, our agent can choose between action $ 0 < i \\leq n$ where choosing action $i$ runs the following algorithm, as described in (D’Errico and Roukny 2018):\n",
    "\n",
    "\n",
    "\n"
   ]
  },
  {
   "cell_type": "code",
   "execution_count": 17,
   "metadata": {},
   "outputs": [],
   "source": [
    "def compress_critical_cycle(ccycle,adj_matrix):\n",
    "    path = ccycle['cycle']\n",
    "    path_edges = [(path[i-1],path[i]) for i in range(1,len(path))]\n",
    "    min_edge = min([adj_matrix[edge] for edge in path_edges])\n",
    "    for edge in path_edges:\n",
    "        adj_matrix[edge] = adj_matrix[edge] - min_edge\n",
    "    return adj_matrix"
   ]
  },
  {
   "cell_type": "markdown",
   "metadata": {},
   "source": [
    "### Reward Observation\n",
    "\n",
    "THe last observation to touch on is the observation that allows the agent to best discern how close it is to an optimal reward. Every timestep, our agent recieved information stating its excess\\_percent which is the percent of counterfactual notional that is currently achieved by the current adjacency matrix. This is the same metric that will decide if an agent will recieve a reward of positive or negative 1 during a given timestep.\n",
    "\n",
    "\\_get\\_state logic is displayed below"
   ]
  },
  {
   "cell_type": "code",
   "execution_count": null,
   "metadata": {},
   "outputs": [],
   "source": [
    "    def _get_state(self):\n",
    "        \"\"\"Get the observation.\"\"\"\n",
    "        self.counterfactual_adj_matrix = self.counterfactual_adj_matrix + self.week_adj_matrices[self.curr_date]\n",
    "        self.curr_adj_matrix = self.curr_adj_matrix + self.week_adj_matrices[self.curr_date]\n",
    "        excess_percent = np.sum(self.curr_adj_matrix)/np.sum(self.counterfactual_adj_matrix)\n",
    "        compress_res = compress_data(self.curr_adj_matrix)\n",
    "        critical_matrix = compress_res[\"critical_matrix\"]\n",
    "        compressed_matrix = self.curr_adj_matrix - critical_matrix\n",
    "        self.ccycles = critical_list_from_matrix(critical_matrix)\n",
    "        return dict({\"curr_adj_matrix\":normalize_matrix(self.curr_adj_matrix),\n",
    "                    \"compressed_matrix\":normalize_matrix(compressed_matrix),\n",
    "                    \"excess_percent\":excess_percent})"
   ]
  },
  {
   "cell_type": "markdown",
   "metadata": {},
   "source": [
    "## Next Steps\n",
    "1. Build a deep learning agent to play in this model, right now the cross entropy agent from the OpenAI Gym package that I am using has quite poor performance; I made this gym enviroment to test architectures with stronger pattern recognition abilities, and I certainly would like to test my environment on such architectures.\n",
    "1. I have been playing quite a bit with the idea of sending the reinforcement learning agent information about only portions of the singular value decompisition of the \"current state adjacency matrix\". This would help accentuate patterns within the adjacency matrix amongst banks with very distinct trading patterns. Once I am able to begin to work more seriously on using a deep learning architecture for policy discovery this will definitly be the first mutation of the very noisy adjacency matrix I will try."
   ]
  },
  {
   "cell_type": "code",
   "execution_count": 11,
   "metadata": {},
   "outputs": [
    {
     "ename": "ModuleNotFoundError",
     "evalue": "No module named '_policies'",
     "output_type": "error",
     "traceback": [
      "\u001b[1;31m---------------------------------------------------------------------------\u001b[0m",
      "\u001b[1;31mModuleNotFoundError\u001b[0m                       Traceback (most recent call last)",
      "\u001b[1;32m<ipython-input-11-22ab18b6da70>\u001b[0m in \u001b[0;36m<module>\u001b[1;34m()\u001b[0m\n\u001b[0;32m      7\u001b[0m \u001b[1;32mimport\u001b[0m \u001b[0mjson\u001b[0m\u001b[1;33m,\u001b[0m \u001b[0msys\u001b[0m\u001b[1;33m,\u001b[0m \u001b[0mos\u001b[0m\u001b[1;33m\u001b[0m\u001b[0m\n\u001b[0;32m      8\u001b[0m \u001b[1;32mfrom\u001b[0m \u001b[0mos\u001b[0m \u001b[1;32mimport\u001b[0m \u001b[0mpath\u001b[0m\u001b[1;33m\u001b[0m\u001b[0m\n\u001b[1;32m----> 9\u001b[1;33m \u001b[1;32mfrom\u001b[0m \u001b[0m_policies\u001b[0m \u001b[1;32mimport\u001b[0m \u001b[0mBinaryActionLinearPolicy\u001b[0m \u001b[1;31m# Different file so it can be unpickled\u001b[0m\u001b[1;33m\u001b[0m\u001b[0m\n\u001b[0m\u001b[0;32m     10\u001b[0m \u001b[1;32mimport\u001b[0m \u001b[0margparse\u001b[0m\u001b[1;33m\u001b[0m\u001b[0m\n\u001b[0;32m     11\u001b[0m \u001b[1;33m\u001b[0m\u001b[0m\n",
      "\u001b[1;31mModuleNotFoundError\u001b[0m: No module named '_policies'"
     ]
    }
   ],
   "source": [
    "from __future__ import print_function\n",
    "\n",
    "import gym\n",
    "from gym import wrappers, logger\n",
    "import numpy as np\n",
    "from six.moves import cPickle as pickle\n",
    "import json, sys, os\n",
    "from os import path\n",
    "from _policies import BinaryActionLinearPolicy # Different file so it can be unpickled\n",
    "import argparse\n",
    "\n",
    "def cem(f, th_mean, batch_size, n_iter, elite_frac, initial_std=1.0):\n",
    "    \"\"\"\n",
    "    Generic implementation of the cross-entropy method for maximizing a black-box function\n",
    "\n",
    "    f: a function mapping from vector -> scalar\n",
    "    th_mean: initial mean over input distribution\n",
    "    batch_size: number of samples of theta to evaluate per batch\n",
    "    n_iter: number of batches\n",
    "    elite_frac: each batch, select this fraction of the top-performing samples\n",
    "    initial_std: initial standard deviation over parameter vectors\n",
    "    \"\"\"\n",
    "    n_elite = int(np.round(batch_size*elite_frac))\n",
    "    th_std = np.ones_like(th_mean) * initial_std\n",
    "\n",
    "    for _ in range(n_iter):\n",
    "        ths = np.array([th_mean + dth for dth in  th_std[None,:]*np.random.randn(batch_size, th_mean.size)])\n",
    "        ys = np.array([f(th) for th in ths])\n",
    "        elite_inds = ys.argsort()[::-1][:n_elite]\n",
    "        elite_ths = ths[elite_inds]\n",
    "        th_mean = elite_ths.mean(axis=0)\n",
    "        th_std = elite_ths.std(axis=0)\n",
    "        yield {'ys' : ys, 'theta_mean' : th_mean, 'y_mean' : ys.mean()}\n",
    "\n",
    "def do_rollout(agent, env, num_steps, render=False):\n",
    "    total_rew = 0\n",
    "    ob = env.reset()\n",
    "    for t in range(num_steps):\n",
    "        a = agent.act(ob)\n",
    "        (ob, reward, done, _info) = env.step(a)\n",
    "        total_rew += reward\n",
    "        if render and t%3==0: env.render()\n",
    "        if done: break\n",
    "    return total_rew, t+1\n",
    "\n",
    "if __name__ == '__main__':\n",
    "    logger.set_level(logger.INFO)\n",
    "\n",
    "    parser = argparse.ArgumentParser()\n",
    "    parser.add_argument('--display', action='store_true')\n",
    "    parser.add_argument('target', nargs=\"?\", default=\"CartPole-v0\")\n",
    "    args = parser.parse_args()\n",
    "\n",
    "    env = gym.make(args.target)\n",
    "    env.seed(0)\n",
    "    np.random.seed(0)\n",
    "    params = dict(n_iter=10, batch_size=25, elite_frac = 0.2)\n",
    "    num_steps = 200\n",
    "\n",
    "    # You provide the directory to write to (can be an existing\n",
    "    # directory, but can't contain previous monitor results. You can\n",
    "    # also dump to a tempdir if you'd like: tempfile.mkdtemp().\n",
    "    outdir = '/tmp/cem-agent-results'\n",
    "    env = wrappers.Monitor(env, outdir, force=True)\n",
    "\n",
    "    # Prepare snapshotting\n",
    "    # ----------------------------------------\n",
    "    def writefile(fname, s):\n",
    "        with open(path.join(outdir, fname), 'w') as fh: fh.write(s)\n",
    "    info = {}\n",
    "    info['params'] = params\n",
    "    info['argv'] = sys.argv\n",
    "    info['env_id'] = env.spec.id\n",
    "    # ------------------------------------------\n",
    "\n",
    "    def noisy_evaluation(theta):\n",
    "        agent = BinaryActionLinearPolicy(theta)\n",
    "        rew, T = do_rollout(agent, env, num_steps)\n",
    "        return rew\n",
    "\n",
    "    # Train the agent, and snapshot each stage\n",
    "    for (i, iterdata) in enumerate(\n",
    "        cem(noisy_evaluation, np.zeros(env.observation_space.shape[0]+1), **params)):\n",
    "        print('Iteration %2i. Episode mean reward: %7.3f'%(i, iterdata['y_mean']))\n",
    "        agent = BinaryActionLinearPolicy(iterdata['theta_mean'])\n",
    "        if args.display: do_rollout(agent, env, 200, render=True)\n",
    "        writefile('agent-%.4i.pkl'%i, str(pickle.dumps(agent, -1)))\n",
    "\n",
    "    # Write out the env at the end so we store the parameters of this\n",
    "    # environment.\n",
    "    writefile('info.json', json.dumps(info))\n",
    "\n",
    "    env.close()\n"
   ]
  },
  {
   "cell_type": "code",
   "execution_count": null,
   "metadata": {},
   "outputs": [],
   "source": []
  }
 ],
 "metadata": {
  "kernelspec": {
   "display_name": "Python 3",
   "language": "python",
   "name": "python3"
  },
  "language_info": {
   "codemirror_mode": {
    "name": "ipython",
    "version": 3
   },
   "file_extension": ".py",
   "mimetype": "text/x-python",
   "name": "python",
   "nbconvert_exporter": "python",
   "pygments_lexer": "ipython3",
   "version": "3.6.0"
  }
 },
 "nbformat": 4,
 "nbformat_minor": 2
}
